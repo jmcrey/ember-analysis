{
 "cells": [
  {
   "cell_type": "code",
   "execution_count": 1,
   "id": "491afb4c",
   "metadata": {},
   "outputs": [],
   "source": [
    "import ember\n",
    "import pandas as pd\n",
    "import numpy as np\n",
    "import json\n",
    "import datetime\n",
    "\n",
    "import matplotlib.pyplot as plt\n",
    "from ember.features import PEFeatureExtractor"
   ]
  },
  {
   "cell_type": "code",
   "execution_count": 3,
   "id": "95d9bb0e",
   "metadata": {},
   "outputs": [],
   "source": []
  },
  {
   "cell_type": "code",
   "execution_count": 3,
   "id": "a0382a75",
   "metadata": {},
   "outputs": [
    {
     "name": "stdout",
     "output_type": "stream",
     "text": [
      "WARNING: EMBER feature version 2 were computed using lief version 0.9.0-\n",
      "WARNING:   lief version 0.11.5-37bc2c9 found instead. There may be slight inconsistencies\n",
      "WARNING:   in the feature calculations.\n",
      "Vectorizing training set\n"
     ]
    },
    {
     "name": "stderr",
     "output_type": "stream",
     "text": [
      "100%|███████████████████████████████████████████████████████████████| 800000/800000 [02:05<00:00, 6353.80it/s]\n"
     ]
    },
    {
     "name": "stdout",
     "output_type": "stream",
     "text": [
      "Vectorizing test set\n"
     ]
    },
    {
     "name": "stderr",
     "output_type": "stream",
     "text": [
      "100%|███████████████████████████████████████████████████████████████| 200000/200000 [00:31<00:00, 6333.02it/s]"
     ]
    },
    {
     "name": "stdout",
     "output_type": "stream",
     "text": [
      "CPU times: user 1min 41s, sys: 33.4 s, total: 2min 14s\n",
      "Wall time: 2min 40s\n"
     ]
    },
    {
     "name": "stderr",
     "output_type": "stream",
     "text": [
      "\n"
     ]
    }
   ],
   "source": [
    "%%time\n",
    "ember.create_vectorized_features(\"ember2018/\")"
   ]
  },
  {
   "cell_type": "code",
   "execution_count": 5,
   "id": "a13c6eb0",
   "metadata": {},
   "outputs": [
    {
     "name": "stdout",
     "output_type": "stream",
     "text": [
      "CPU times: user 51.9 s, sys: 29.7 s, total: 1min 21s\n",
      "Wall time: 59 s\n"
     ]
    }
   ],
   "source": [
    "%%time\n",
    "metadata = ember.create_metadata(\"ember2018/\")"
   ]
  },
  {
   "cell_type": "code",
   "execution_count": 185,
   "id": "48d13e02",
   "metadata": {},
   "outputs": [],
   "source": [
    "train_data = metadata.loc[metadata['subset'] == 'train'][['appeared', 'label']]\n",
    "test_data = metadata.loc[metadata['subset'] == 'test'][['appeared', 'label']]"
   ]
  },
  {
   "cell_type": "code",
   "execution_count": 186,
   "id": "7f424129",
   "metadata": {},
   "outputs": [
    {
     "data": {
      "text/html": [
       "<div>\n",
       "<style scoped>\n",
       "    .dataframe tbody tr th:only-of-type {\n",
       "        vertical-align: middle;\n",
       "    }\n",
       "\n",
       "    .dataframe tbody tr th {\n",
       "        vertical-align: top;\n",
       "    }\n",
       "\n",
       "    .dataframe thead th {\n",
       "        text-align: right;\n",
       "    }\n",
       "</style>\n",
       "<table border=\"1\" class=\"dataframe\">\n",
       "  <thead>\n",
       "    <tr style=\"text-align: right;\">\n",
       "      <th></th>\n",
       "      <th>appeared</th>\n",
       "      <th>label</th>\n",
       "      <th>appeared_tz</th>\n",
       "    </tr>\n",
       "  </thead>\n",
       "  <tbody>\n",
       "    <tr>\n",
       "      <th>0</th>\n",
       "      <td>2006-12</td>\n",
       "      <td>0</td>\n",
       "      <td>2006-12-01</td>\n",
       "    </tr>\n",
       "    <tr>\n",
       "      <th>1</th>\n",
       "      <td>2007-01</td>\n",
       "      <td>0</td>\n",
       "      <td>2007-01-01</td>\n",
       "    </tr>\n",
       "    <tr>\n",
       "      <th>2</th>\n",
       "      <td>2007-02</td>\n",
       "      <td>0</td>\n",
       "      <td>2007-02-01</td>\n",
       "    </tr>\n",
       "    <tr>\n",
       "      <th>3</th>\n",
       "      <td>2007-02</td>\n",
       "      <td>0</td>\n",
       "      <td>2007-02-01</td>\n",
       "    </tr>\n",
       "    <tr>\n",
       "      <th>4</th>\n",
       "      <td>2007-02</td>\n",
       "      <td>0</td>\n",
       "      <td>2007-02-01</td>\n",
       "    </tr>\n",
       "  </tbody>\n",
       "</table>\n",
       "</div>"
      ],
      "text/plain": [
       "  appeared  label appeared_tz\n",
       "0  2006-12      0  2006-12-01\n",
       "1  2007-01      0  2007-01-01\n",
       "2  2007-02      0  2007-02-01\n",
       "3  2007-02      0  2007-02-01\n",
       "4  2007-02      0  2007-02-01"
      ]
     },
     "execution_count": 186,
     "metadata": {},
     "output_type": "execute_result"
    }
   ],
   "source": [
    "train_data = train_data.merge(pd.to_datetime(train_data['appeared']), 'left', right_index=True, left_index=True, suffixes=('', '_tz'))\n",
    "train_data.head()"
   ]
  },
  {
   "cell_type": "code",
   "execution_count": 187,
   "id": "7eaddb97",
   "metadata": {},
   "outputs": [],
   "source": [
    "train_data.loc[train_data['appeared_tz'] < datetime.datetime(month=1, day=1, year=2017), \"appeared\"] = '<2017'"
   ]
  },
  {
   "cell_type": "code",
   "execution_count": 188,
   "id": "0717d8ce",
   "metadata": {},
   "outputs": [
    {
     "data": {
      "image/png": "[encoded data removed]",
      "text/plain": [
       "<Figure size 432x288 with 1 Axes>"
      ]
     },
     "metadata": {
      "needs_background": "light"
     },
     "output_type": "display_data"
    }
   ],
   "source": [
    "x = train_data.groupby(['appeared', 'label']).count()\n",
    "ax1 = x.reset_index().pivot(index='appeared', columns='label', values='appeared_tz').plot.bar(color={\n",
    "    0:'green', 1: 'red', -1: 'blue'\n",
    "})\n",
    "ax1.set_title(\"Train Distribution Over Time\")\n",
    "fig = ax1.get_figure()\n",
    "fig.savefig('train_distribution_over_time.jpg', bbox_inches=\"tight\")"
   ]
  },
  {
   "cell_type": "code",
   "execution_count": 189,
   "id": "c8182349",
   "metadata": {
    "scrolled": true
   },
   "outputs": [
    {
     "data": {
      "image/png": "[encoded data removed]",
      "text/plain": [
       "<Figure size 432x288 with 1 Axes>"
      ]
     },
     "metadata": {
      "needs_background": "light"
     },
     "output_type": "display_data"
    }
   ],
   "source": [
    "ax2 = train_data.groupby('label').count().drop(columns=['appeared_tz']).rename(columns={'appeared': 'count'}).plot.bar()\n",
    "ax2.set_title(\"Train Distriubtion\")\n",
    "fig = ax2.get_figure()\n",
    "fig.savefig('train_distribution.jpg', bbox_inches=\"tight\")"
   ]
  },
  {
   "cell_type": "code",
   "execution_count": 168,
   "id": "75e74aba",
   "metadata": {},
   "outputs": [
    {
     "ename": "AttributeError",
     "evalue": "'AxesSubplot' object has no attribute 'show'",
     "output_type": "error",
     "traceback": [
      "\u001b[0;31m---------------------------------------------------------------------------\u001b[0m",
      "\u001b[0;31mAttributeError\u001b[0m                            Traceback (most recent call last)",
      "\u001b[0;32m/tmp/ipykernel_20317/4160136238.py\u001b[0m in \u001b[0;36m<module>\u001b[0;34m\u001b[0m\n\u001b[0;32m----> 1\u001b[0;31m \u001b[0max1\u001b[0m\u001b[0;34m.\u001b[0m\u001b[0mshow\u001b[0m\u001b[0;34m(\u001b[0m\u001b[0;34m)\u001b[0m\u001b[0;34m\u001b[0m\u001b[0;34m\u001b[0m\u001b[0m\n\u001b[0m",
      "\u001b[0;31mAttributeError\u001b[0m: 'AxesSubplot' object has no attribute 'show'"
     ]
    }
   ],
   "source": [
    "ax1"
   ]
  },
  {
   "cell_type": "code",
   "execution_count": 190,
   "id": "21bd79a4",
   "metadata": {},
   "outputs": [],
   "source": [
    "test_data = test_data.merge(pd.to_datetime(test_data['appeared']), 'left', right_index=True, left_index=True, suffixes=('', '_tz'))\n",
    "test_data.loc[test_data['appeared_tz'] < datetime.datetime(month=1, day=1, year=2017), \"appeared\"] = '<2017'"
   ]
  },
  {
   "cell_type": "code",
   "execution_count": 191,
   "id": "f24fd7c0",
   "metadata": {},
   "outputs": [
    {
     "data": {
      "image/png": "[encoded data removed]",
      "text/plain": [
       "<Figure size 432x288 with 1 Axes>"
      ]
     },
     "metadata": {
      "needs_background": "light"
     },
     "output_type": "display_data"
    }
   ],
   "source": [
    "x = test_data.groupby(['appeared', 'label']).count()\n",
    "ax = x.reset_index().pivot(index='appeared', columns='label', values='appeared_tz').plot.bar(color={\n",
    "    0:'green', 1: 'red', -1: 'blue'\n",
    "})\n",
    "ax.set_title(\"Test Distribution over Time\")\n",
    "fig = ax.get_figure()\n",
    "fig.savefig('test_distribution_over_time.jpg', bbox_inches=\"tight\")"
   ]
  },
  {
   "cell_type": "code",
   "execution_count": 192,
   "id": "5a8f02aa",
   "metadata": {},
   "outputs": [
    {
     "data": {
      "image/png": "[encoded data removed]",
      "text/plain": [
       "<Figure size 432x288 with 1 Axes>"
      ]
     },
     "metadata": {
      "needs_background": "light"
     },
     "output_type": "display_data"
    }
   ],
   "source": [
    "ax = test_data.groupby('label').count().drop(columns=['appeared_tz']).rename(columns={'appeared': 'count'}).plot.bar()\n",
    "ax.set_title(\"Test Distribution\")\n",
    "fig = ax.get_figure()\n",
    "fig.savefig('test_distribution.jpg', bbox_inches=\"tight\")"
   ]
  },
  {
   "cell_type": "code",
   "execution_count": 8,
   "id": "0479d532",
   "metadata": {},
   "outputs": [
    {
     "name": "stdout",
     "output_type": "stream",
     "text": [
      "WARNING: EMBER feature version 2 were computed using lief version 0.9.0-\n",
      "WARNING:   lief version 0.11.5-37bc2c9 found instead. There may be slight inconsistencies\n",
      "WARNING:   in the feature calculations.\n"
     ]
    }
   ],
   "source": [
    "X_train, y_train, X_test, y_test = ember.read_vectorized_features(\"ember2018/\")"
   ]
  },
  {
   "cell_type": "code",
   "execution_count": 46,
   "id": "d3248054",
   "metadata": {},
   "outputs": [
    {
     "data": {
      "text/plain": [
       "(800000, 2381)"
      ]
     },
     "execution_count": 46,
     "metadata": {},
     "output_type": "execute_result"
    }
   ],
   "source": [
    "X_train.shape"
   ]
  },
  {
   "cell_type": "code",
   "execution_count": 30,
   "id": "faa0e976",
   "metadata": {},
   "outputs": [],
   "source": [
    "for i, item in enumerate(X_train[0]):\n",
    "    if item == 5.972072:\n",
    "        print(i)"
   ]
  },
  {
   "cell_type": "code",
   "execution_count": 143,
   "id": "d56f388f",
   "metadata": {},
   "outputs": [
    {
     "ename": "KeyError",
     "evalue": "('histogram', 'byteentropy', 'strings', 'general', 'header', 'section', 'imports', 'exports', 'datadirectories')",
     "output_type": "error",
     "traceback": [
      "\u001b[0;31m---------------------------------------------------------------------------\u001b[0m",
      "\u001b[0;31mKeyError\u001b[0m                                  Traceback (most recent call last)",
      "\u001b[0;32m~/.pyenv/versions/mvda/lib/python3.9/site-packages/pandas/core/indexes/base.py\u001b[0m in \u001b[0;36mget_loc\u001b[0;34m(self, key, method, tolerance)\u001b[0m\n\u001b[1;32m   3360\u001b[0m             \u001b[0;32mtry\u001b[0m\u001b[0;34m:\u001b[0m\u001b[0;34m\u001b[0m\u001b[0;34m\u001b[0m\u001b[0m\n\u001b[0;32m-> 3361\u001b[0;31m                 \u001b[0;32mreturn\u001b[0m \u001b[0mself\u001b[0m\u001b[0;34m.\u001b[0m\u001b[0m_engine\u001b[0m\u001b[0;34m.\u001b[0m\u001b[0mget_loc\u001b[0m\u001b[0;34m(\u001b[0m\u001b[0mcasted_key\u001b[0m\u001b[0;34m)\u001b[0m\u001b[0;34m\u001b[0m\u001b[0;34m\u001b[0m\u001b[0m\n\u001b[0m\u001b[1;32m   3362\u001b[0m             \u001b[0;32mexcept\u001b[0m \u001b[0mKeyError\u001b[0m \u001b[0;32mas\u001b[0m \u001b[0merr\u001b[0m\u001b[0;34m:\u001b[0m\u001b[0;34m\u001b[0m\u001b[0;34m\u001b[0m\u001b[0m\n",
      "\u001b[0;32m~/.pyenv/versions/mvda/lib/python3.9/site-packages/pandas/_libs/index.pyx\u001b[0m in \u001b[0;36mpandas._libs.index.IndexEngine.get_loc\u001b[0;34m()\u001b[0m\n",
      "\u001b[0;32m~/.pyenv/versions/mvda/lib/python3.9/site-packages/pandas/_libs/index.pyx\u001b[0m in \u001b[0;36mpandas._libs.index.IndexEngine.get_loc\u001b[0;34m()\u001b[0m\n",
      "\u001b[0;32mpandas/_libs/hashtable_class_helper.pxi\u001b[0m in \u001b[0;36mpandas._libs.hashtable.PyObjectHashTable.get_item\u001b[0;34m()\u001b[0m\n",
      "\u001b[0;32mpandas/_libs/hashtable_class_helper.pxi\u001b[0m in \u001b[0;36mpandas._libs.hashtable.PyObjectHashTable.get_item\u001b[0;34m()\u001b[0m\n",
      "\u001b[0;31mKeyError\u001b[0m: ('histogram', 'byteentropy', 'strings', 'general', 'header', 'section', 'imports', 'exports', 'datadirectories')",
      "\nThe above exception was the direct cause of the following exception:\n",
      "\u001b[0;31mKeyError\u001b[0m                                  Traceback (most recent call last)",
      "\u001b[0;32m/tmp/ipykernel_20317/4124081329.py\u001b[0m in \u001b[0;36m<module>\u001b[0;34m\u001b[0m\n\u001b[1;32m      1\u001b[0m \u001b[0mraw_features\u001b[0m \u001b[0;34m=\u001b[0m \u001b[0mpd\u001b[0m\u001b[0;34m.\u001b[0m\u001b[0mread_json\u001b[0m\u001b[0;34m(\u001b[0m\u001b[0;34m'ember2018/train_features_0.jsonl'\u001b[0m\u001b[0;34m,\u001b[0m \u001b[0mlines\u001b[0m\u001b[0;34m=\u001b[0m\u001b[0;32mTrue\u001b[0m\u001b[0;34m)\u001b[0m\u001b[0;34m\u001b[0m\u001b[0;34m\u001b[0m\u001b[0m\n\u001b[0;32m----> 2\u001b[0;31m \u001b[0mraw_features\u001b[0m\u001b[0;34m.\u001b[0m\u001b[0mhead\u001b[0m\u001b[0;34m(\u001b[0m\u001b[0;34m)\u001b[0m\u001b[0;34m[\u001b[0m\u001b[0;34m'histogram'\u001b[0m\u001b[0;34m,\u001b[0m \u001b[0;34m'byteentropy'\u001b[0m\u001b[0;34m,\u001b[0m \u001b[0;34m'strings'\u001b[0m\u001b[0;34m,\u001b[0m \u001b[0;34m'general'\u001b[0m\u001b[0;34m,\u001b[0m \u001b[0;34m'header'\u001b[0m\u001b[0;34m,\u001b[0m \u001b[0;34m'section'\u001b[0m\u001b[0;34m,\u001b[0m \u001b[0;34m'imports'\u001b[0m\u001b[0;34m,\u001b[0m \u001b[0;34m'exports'\u001b[0m\u001b[0;34m,\u001b[0m \u001b[0;34m'datadirectories'\u001b[0m\u001b[0;34m]\u001b[0m\u001b[0;34m\u001b[0m\u001b[0;34m\u001b[0m\u001b[0m\n\u001b[0m",
      "\u001b[0;32m~/.pyenv/versions/mvda/lib/python3.9/site-packages/pandas/core/frame.py\u001b[0m in \u001b[0;36m__getitem__\u001b[0;34m(self, key)\u001b[0m\n\u001b[1;32m   3456\u001b[0m             \u001b[0;32mif\u001b[0m \u001b[0mself\u001b[0m\u001b[0;34m.\u001b[0m\u001b[0mcolumns\u001b[0m\u001b[0;34m.\u001b[0m\u001b[0mnlevels\u001b[0m \u001b[0;34m>\u001b[0m \u001b[0;36m1\u001b[0m\u001b[0;34m:\u001b[0m\u001b[0;34m\u001b[0m\u001b[0;34m\u001b[0m\u001b[0m\n\u001b[1;32m   3457\u001b[0m                 \u001b[0;32mreturn\u001b[0m \u001b[0mself\u001b[0m\u001b[0;34m.\u001b[0m\u001b[0m_getitem_multilevel\u001b[0m\u001b[0;34m(\u001b[0m\u001b[0mkey\u001b[0m\u001b[0;34m)\u001b[0m\u001b[0;34m\u001b[0m\u001b[0;34m\u001b[0m\u001b[0m\n\u001b[0;32m-> 3458\u001b[0;31m             \u001b[0mindexer\u001b[0m \u001b[0;34m=\u001b[0m \u001b[0mself\u001b[0m\u001b[0;34m.\u001b[0m\u001b[0mcolumns\u001b[0m\u001b[0;34m.\u001b[0m\u001b[0mget_loc\u001b[0m\u001b[0;34m(\u001b[0m\u001b[0mkey\u001b[0m\u001b[0;34m)\u001b[0m\u001b[0;34m\u001b[0m\u001b[0;34m\u001b[0m\u001b[0m\n\u001b[0m\u001b[1;32m   3459\u001b[0m             \u001b[0;32mif\u001b[0m \u001b[0mis_integer\u001b[0m\u001b[0;34m(\u001b[0m\u001b[0mindexer\u001b[0m\u001b[0;34m)\u001b[0m\u001b[0;34m:\u001b[0m\u001b[0;34m\u001b[0m\u001b[0;34m\u001b[0m\u001b[0m\n\u001b[1;32m   3460\u001b[0m                 \u001b[0mindexer\u001b[0m \u001b[0;34m=\u001b[0m \u001b[0;34m[\u001b[0m\u001b[0mindexer\u001b[0m\u001b[0;34m]\u001b[0m\u001b[0;34m\u001b[0m\u001b[0;34m\u001b[0m\u001b[0m\n",
      "\u001b[0;32m~/.pyenv/versions/mvda/lib/python3.9/site-packages/pandas/core/indexes/base.py\u001b[0m in \u001b[0;36mget_loc\u001b[0;34m(self, key, method, tolerance)\u001b[0m\n\u001b[1;32m   3361\u001b[0m                 \u001b[0;32mreturn\u001b[0m \u001b[0mself\u001b[0m\u001b[0;34m.\u001b[0m\u001b[0m_engine\u001b[0m\u001b[0;34m.\u001b[0m\u001b[0mget_loc\u001b[0m\u001b[0;34m(\u001b[0m\u001b[0mcasted_key\u001b[0m\u001b[0;34m)\u001b[0m\u001b[0;34m\u001b[0m\u001b[0;34m\u001b[0m\u001b[0m\n\u001b[1;32m   3362\u001b[0m             \u001b[0;32mexcept\u001b[0m \u001b[0mKeyError\u001b[0m \u001b[0;32mas\u001b[0m \u001b[0merr\u001b[0m\u001b[0;34m:\u001b[0m\u001b[0;34m\u001b[0m\u001b[0;34m\u001b[0m\u001b[0m\n\u001b[0;32m-> 3363\u001b[0;31m                 \u001b[0;32mraise\u001b[0m \u001b[0mKeyError\u001b[0m\u001b[0;34m(\u001b[0m\u001b[0mkey\u001b[0m\u001b[0;34m)\u001b[0m \u001b[0;32mfrom\u001b[0m \u001b[0merr\u001b[0m\u001b[0;34m\u001b[0m\u001b[0;34m\u001b[0m\u001b[0m\n\u001b[0m\u001b[1;32m   3364\u001b[0m \u001b[0;34m\u001b[0m\u001b[0m\n\u001b[1;32m   3365\u001b[0m         \u001b[0;32mif\u001b[0m \u001b[0mis_scalar\u001b[0m\u001b[0;34m(\u001b[0m\u001b[0mkey\u001b[0m\u001b[0;34m)\u001b[0m \u001b[0;32mand\u001b[0m \u001b[0misna\u001b[0m\u001b[0;34m(\u001b[0m\u001b[0mkey\u001b[0m\u001b[0;34m)\u001b[0m \u001b[0;32mand\u001b[0m \u001b[0;32mnot\u001b[0m \u001b[0mself\u001b[0m\u001b[0;34m.\u001b[0m\u001b[0mhasnans\u001b[0m\u001b[0;34m:\u001b[0m\u001b[0;34m\u001b[0m\u001b[0;34m\u001b[0m\u001b[0m\n",
      "\u001b[0;31mKeyError\u001b[0m: ('histogram', 'byteentropy', 'strings', 'general', 'header', 'section', 'imports', 'exports', 'datadirectories')"
     ]
    }
   ],
   "source": [
    "raw_features = pd.read_json('ember2018/train_features_0.jsonl', lines=True)\n",
    "raw_features.head()['histogram', 'byteentropy', 'strings', 'general', 'header', 'section', 'imports', 'exports', 'datadirectories']"
   ]
  },
  {
   "cell_type": "code",
   "execution_count": 144,
   "id": "2894d6b7",
   "metadata": {},
   "outputs": [
    {
     "data": {
      "text/html": [
       "<div>\n",
       "<style scoped>\n",
       "    .dataframe tbody tr th:only-of-type {\n",
       "        vertical-align: middle;\n",
       "    }\n",
       "\n",
       "    .dataframe tbody tr th {\n",
       "        vertical-align: top;\n",
       "    }\n",
       "\n",
       "    .dataframe thead th {\n",
       "        text-align: right;\n",
       "    }\n",
       "</style>\n",
       "<table border=\"1\" class=\"dataframe\">\n",
       "  <thead>\n",
       "    <tr style=\"text-align: right;\">\n",
       "      <th></th>\n",
       "      <th>histogram</th>\n",
       "      <th>byteentropy</th>\n",
       "      <th>strings</th>\n",
       "      <th>general</th>\n",
       "      <th>header</th>\n",
       "      <th>section</th>\n",
       "      <th>imports</th>\n",
       "      <th>exports</th>\n",
       "      <th>datadirectories</th>\n",
       "    </tr>\n",
       "  </thead>\n",
       "  <tbody>\n",
       "    <tr>\n",
       "      <th>0</th>\n",
       "      <td>[45521, 13095, 12167, 12496, 12429, 11709, 118...</td>\n",
       "      <td>[0, 0, 0, 0, 0, 0, 0, 0, 0, 0, 0, 0, 0, 0, 0, ...</td>\n",
       "      <td>{'numstrings': 14573, 'avlength': 5.9720716393...</td>\n",
       "      <td>{'size': 3101705, 'vsize': 380928, 'has_debug'...</td>\n",
       "      <td>{'coff': {'timestamp': 1124149349, 'machine': ...</td>\n",
       "      <td>{'entry': '.text', 'sections': [{'name': '.tex...</td>\n",
       "      <td>{'KERNEL32.dll': ['SetFileTime', 'CompareFileT...</td>\n",
       "      <td>[]</td>\n",
       "      <td>[{'name': 'EXPORT_TABLE', 'size': 0, 'virtual_...</td>\n",
       "    </tr>\n",
       "    <tr>\n",
       "      <th>1</th>\n",
       "      <td>[93059, 15789, 2871, 3005, 4107, 1771, 2918, 4...</td>\n",
       "      <td>[47100, 2, 0, 0, 0, 0, 2, 0, 0, 0, 0, 0, 0, 0,...</td>\n",
       "      <td>{'numstrings': 1803, 'avlength': 11.1913477537...</td>\n",
       "      <td>{'size': 504320, 'vsize': 524288, 'has_debug':...</td>\n",
       "      <td>{'coff': {'timestamp': 1091600092, 'machine': ...</td>\n",
       "      <td>{'entry': '.text', 'sections': [{'name': '.tex...</td>\n",
       "      <td>{'ADVAPI32.dll': ['ConvertStringSecurityDescri...</td>\n",
       "      <td>[]</td>\n",
       "      <td>[{'name': 'EXPORT_TABLE', 'size': 0, 'virtual_...</td>\n",
       "    </tr>\n",
       "    <tr>\n",
       "      <th>2</th>\n",
       "      <td>[45369, 2560, 1233, 1542, 4234, 515, 613, 1542...</td>\n",
       "      <td>[6144, 0, 0, 0, 0, 0, 0, 0, 0, 0, 0, 0, 0, 0, ...</td>\n",
       "      <td>{'numstrings': 1238, 'avlength': 12.0201938610...</td>\n",
       "      <td>{'size': 180224, 'vsize': 180224, 'has_debug':...</td>\n",
       "      <td>{'coff': {'timestamp': 892092777, 'machine': '...</td>\n",
       "      <td>{'entry': '.text', 'sections': [{'name': '.tex...</td>\n",
       "      <td>{'ADVAPI32.dll': ['RegSetValueExA', 'RegDelete...</td>\n",
       "      <td>[]</td>\n",
       "      <td>[{'name': 'EXPORT_TABLE', 'size': 0, 'virtual_...</td>\n",
       "    </tr>\n",
       "    <tr>\n",
       "      <th>3</th>\n",
       "      <td>[21315, 9641, 9332, 9358, 9598, 9220, 9146, 93...</td>\n",
       "      <td>[0, 0, 0, 0, 0, 0, 0, 0, 0, 0, 0, 0, 0, 0, 0, ...</td>\n",
       "      <td>{'numstrings': 11166, 'avlength': 5.8078989790...</td>\n",
       "      <td>{'size': 2377730, 'vsize': 77824, 'has_debug':...</td>\n",
       "      <td>{'coff': {'timestamp': 708992537, 'machine': '...</td>\n",
       "      <td>{'entry': 'CODE', 'sections': [{'name': 'CODE'...</td>\n",
       "      <td>{'kernel32.dll': ['DeleteCriticalSection', 'Wr...</td>\n",
       "      <td>[]</td>\n",
       "      <td>[{'name': 'EXPORT_TABLE', 'size': 0, 'virtual_...</td>\n",
       "    </tr>\n",
       "    <tr>\n",
       "      <th>4</th>\n",
       "      <td>[23539, 6015, 5214, 4727, 4892, 4649, 4367, 52...</td>\n",
       "      <td>[0, 0, 0, 0, 0, 0, 0, 0, 0, 0, 0, 0, 0, 0, 0, ...</td>\n",
       "      <td>{'numstrings': 5547, 'avlength': 6.04344690823...</td>\n",
       "      <td>{'size': 1153808, 'vsize': 1167360, 'has_debug...</td>\n",
       "      <td>{'coff': {'timestamp': 938258311, 'machine': '...</td>\n",
       "      <td>{'entry': '.text', 'sections': [{'name': '.tex...</td>\n",
       "      <td>{'ADVAPI32.dll': ['RegCloseKey', 'AllocateAndI...</td>\n",
       "      <td>[]</td>\n",
       "      <td>[{'name': 'EXPORT_TABLE', 'size': 0, 'virtual_...</td>\n",
       "    </tr>\n",
       "  </tbody>\n",
       "</table>\n",
       "</div>"
      ],
      "text/plain": [
       "                                           histogram  \\\n",
       "0  [45521, 13095, 12167, 12496, 12429, 11709, 118...   \n",
       "1  [93059, 15789, 2871, 3005, 4107, 1771, 2918, 4...   \n",
       "2  [45369, 2560, 1233, 1542, 4234, 515, 613, 1542...   \n",
       "3  [21315, 9641, 9332, 9358, 9598, 9220, 9146, 93...   \n",
       "4  [23539, 6015, 5214, 4727, 4892, 4649, 4367, 52...   \n",
       "\n",
       "                                         byteentropy  \\\n",
       "0  [0, 0, 0, 0, 0, 0, 0, 0, 0, 0, 0, 0, 0, 0, 0, ...   \n",
       "1  [47100, 2, 0, 0, 0, 0, 2, 0, 0, 0, 0, 0, 0, 0,...   \n",
       "2  [6144, 0, 0, 0, 0, 0, 0, 0, 0, 0, 0, 0, 0, 0, ...   \n",
       "3  [0, 0, 0, 0, 0, 0, 0, 0, 0, 0, 0, 0, 0, 0, 0, ...   \n",
       "4  [0, 0, 0, 0, 0, 0, 0, 0, 0, 0, 0, 0, 0, 0, 0, ...   \n",
       "\n",
       "                                             strings  \\\n",
       "0  {'numstrings': 14573, 'avlength': 5.9720716393...   \n",
       "1  {'numstrings': 1803, 'avlength': 11.1913477537...   \n",
       "2  {'numstrings': 1238, 'avlength': 12.0201938610...   \n",
       "3  {'numstrings': 11166, 'avlength': 5.8078989790...   \n",
       "4  {'numstrings': 5547, 'avlength': 6.04344690823...   \n",
       "\n",
       "                                             general  \\\n",
       "0  {'size': 3101705, 'vsize': 380928, 'has_debug'...   \n",
       "1  {'size': 504320, 'vsize': 524288, 'has_debug':...   \n",
       "2  {'size': 180224, 'vsize': 180224, 'has_debug':...   \n",
       "3  {'size': 2377730, 'vsize': 77824, 'has_debug':...   \n",
       "4  {'size': 1153808, 'vsize': 1167360, 'has_debug...   \n",
       "\n",
       "                                              header  \\\n",
       "0  {'coff': {'timestamp': 1124149349, 'machine': ...   \n",
       "1  {'coff': {'timestamp': 1091600092, 'machine': ...   \n",
       "2  {'coff': {'timestamp': 892092777, 'machine': '...   \n",
       "3  {'coff': {'timestamp': 708992537, 'machine': '...   \n",
       "4  {'coff': {'timestamp': 938258311, 'machine': '...   \n",
       "\n",
       "                                             section  \\\n",
       "0  {'entry': '.text', 'sections': [{'name': '.tex...   \n",
       "1  {'entry': '.text', 'sections': [{'name': '.tex...   \n",
       "2  {'entry': '.text', 'sections': [{'name': '.tex...   \n",
       "3  {'entry': 'CODE', 'sections': [{'name': 'CODE'...   \n",
       "4  {'entry': '.text', 'sections': [{'name': '.tex...   \n",
       "\n",
       "                                             imports exports  \\\n",
       "0  {'KERNEL32.dll': ['SetFileTime', 'CompareFileT...      []   \n",
       "1  {'ADVAPI32.dll': ['ConvertStringSecurityDescri...      []   \n",
       "2  {'ADVAPI32.dll': ['RegSetValueExA', 'RegDelete...      []   \n",
       "3  {'kernel32.dll': ['DeleteCriticalSection', 'Wr...      []   \n",
       "4  {'ADVAPI32.dll': ['RegCloseKey', 'AllocateAndI...      []   \n",
       "\n",
       "                                     datadirectories  \n",
       "0  [{'name': 'EXPORT_TABLE', 'size': 0, 'virtual_...  \n",
       "1  [{'name': 'EXPORT_TABLE', 'size': 0, 'virtual_...  \n",
       "2  [{'name': 'EXPORT_TABLE', 'size': 0, 'virtual_...  \n",
       "3  [{'name': 'EXPORT_TABLE', 'size': 0, 'virtual_...  \n",
       "4  [{'name': 'EXPORT_TABLE', 'size': 0, 'virtual_...  "
      ]
     },
     "execution_count": 144,
     "metadata": {},
     "output_type": "execute_result"
    }
   ],
   "source": [
    "raw_features.head()[['histogram', 'byteentropy', 'strings', 'general', 'header', 'section', 'imports', 'exports', 'datadirectories']]"
   ]
  },
  {
   "cell_type": "code",
   "execution_count": 18,
   "id": "6f209663",
   "metadata": {},
   "outputs": [
    {
     "data": {
      "text/plain": [
       "sha256             0abb4fda7d5b13801d63bee53e5e256be43e141faa077a...\n",
       "md5                                 63956d6417f8f43357d9a8e79e52257e\n",
       "appeared                                                     2006-12\n",
       "label                                                              0\n",
       "avclass                                                             \n",
       "histogram          [45521, 13095, 12167, 12496, 12429, 11709, 118...\n",
       "byteentropy        [0, 0, 0, 0, 0, 0, 0, 0, 0, 0, 0, 0, 0, 0, 0, ...\n",
       "strings            {'numstrings': 14573, 'avlength': 5.9720716393...\n",
       "general            {'size': 3101705, 'vsize': 380928, 'has_debug'...\n",
       "header             {'coff': {'timestamp': 1124149349, 'machine': ...\n",
       "section            {'entry': '.text', 'sections': [{'name': '.tex...\n",
       "imports            {'KERNEL32.dll': ['SetFileTime', 'CompareFileT...\n",
       "exports                                                           []\n",
       "datadirectories    [{'name': 'EXPORT_TABLE', 'size': 0, 'virtual_...\n",
       "Name: 0, dtype: object"
      ]
     },
     "execution_count": 18,
     "metadata": {},
     "output_type": "execute_result"
    }
   ],
   "source": [
    "sample = raw_features.loc[0]\n",
    "sample"
   ]
  },
  {
   "cell_type": "code",
   "execution_count": 37,
   "id": "ac612489",
   "metadata": {},
   "outputs": [],
   "source": [
    "def process_raw_features(raw_obj):\n",
    "    sections = raw_obj['sections']\n",
    "    general = [\n",
    "        len(sections),  # total number of sections\n",
    "        # number of sections with nonzero size\n",
    "        sum(1 for s in sections if s['size'] == 0),\n",
    "        # number of sections with an empty name\n",
    "        sum(1 for s in sections if s['name'] == \"\"),\n",
    "        # number of RX\n",
    "        sum(1 for s in sections if 'MEM_READ' in s['props'] and 'MEM_EXECUTE' in s['props']),\n",
    "        # number of W\n",
    "        sum(1 for s in sections if 'MEM_WRITE' in s['props'])\n",
    "    ]\n",
    "    # gross characteristics of each section\n",
    "    section_sizes = [(s['name'], s['size']) for s in sections]\n",
    "    section_sizes_hashed = FeatureHasher(50, input_type=\"pair\").transform([section_sizes]).toarray()[0]\n",
    "    section_entropy = [(s['name'], s['entropy']) for s in sections]\n",
    "    section_entropy_hashed = FeatureHasher(50, input_type=\"pair\").transform([section_entropy]).toarray()[0]\n",
    "    section_vsize = [(s['name'], s['vsize']) for s in sections]\n",
    "    section_vsize_hashed = FeatureHasher(50, input_type=\"pair\").transform([section_vsize]).toarray()[0]\n",
    "    entry_name_hashed = FeatureHasher(50, input_type=\"string\").transform([raw_obj['entry']]).toarray()[0]\n",
    "    characteristics = [p for s in sections for p in s['props'] if s['name'] == raw_obj['entry']]\n",
    "    characteristics_hashed = FeatureHasher(50, input_type=\"string\").transform([characteristics]).toarray()[0]\n",
    "\n",
    "    return np.hstack([\n",
    "        general, section_sizes_hashed, section_entropy_hashed, section_vsize_hashed, entry_name_hashed,\n",
    "        characteristics_hashed\n",
    "    ]).astype(np.float32)"
   ]
  },
  {
   "cell_type": "code",
   "execution_count": 40,
   "id": "bb5ddb8d",
   "metadata": {},
   "outputs": [],
   "source": [
    "section_feats = raw_features['section'].apply(process_raw_features)"
   ]
  },
  {
   "cell_type": "code",
   "execution_count": 45,
   "id": "693f2416",
   "metadata": {},
   "outputs": [
    {
     "data": {
      "text/plain": [
       "array([ 5.0000000e+00,  1.0000000e+00,  0.0000000e+00,  1.0000000e+00,\n",
       "        2.0000000e+00,  0.0000000e+00,  0.0000000e+00,  0.0000000e+00,\n",
       "        0.0000000e+00,  0.0000000e+00,  0.0000000e+00,  0.0000000e+00,\n",
       "        0.0000000e+00,  0.0000000e+00,  0.0000000e+00,  0.0000000e+00,\n",
       "        0.0000000e+00,  0.0000000e+00,  0.0000000e+00,  6.6560000e+03,\n",
       "        0.0000000e+00,  0.0000000e+00,  0.0000000e+00,  0.0000000e+00,\n",
       "        0.0000000e+00,  0.0000000e+00,  0.0000000e+00,  0.0000000e+00,\n",
       "        0.0000000e+00,  0.0000000e+00,  0.0000000e+00,  0.0000000e+00,\n",
       "        0.0000000e+00,  0.0000000e+00,  0.0000000e+00,  0.0000000e+00,\n",
       "        0.0000000e+00, -5.1200000e+02,  0.0000000e+00,  0.0000000e+00,\n",
       "        0.0000000e+00,  0.0000000e+00,  0.0000000e+00,  0.0000000e+00,\n",
       "        0.0000000e+00,  0.0000000e+00, -2.6624000e+04,  0.0000000e+00,\n",
       "        2.7648000e+04,  0.0000000e+00,  0.0000000e+00,  0.0000000e+00,\n",
       "        0.0000000e+00,  0.0000000e+00,  0.0000000e+00,  0.0000000e+00,\n",
       "        0.0000000e+00,  0.0000000e+00,  0.0000000e+00,  0.0000000e+00,\n",
       "        0.0000000e+00,  0.0000000e+00,  0.0000000e+00,  0.0000000e+00,\n",
       "        0.0000000e+00,  0.0000000e+00,  0.0000000e+00,  0.0000000e+00,\n",
       "        0.0000000e+00,  5.4330816e+00,  0.0000000e+00,  0.0000000e+00,\n",
       "        0.0000000e+00,  0.0000000e+00,  0.0000000e+00,  0.0000000e+00,\n",
       "        0.0000000e+00,  0.0000000e+00,  0.0000000e+00,  0.0000000e+00,\n",
       "        0.0000000e+00,  0.0000000e+00,  0.0000000e+00,  0.0000000e+00,\n",
       "        0.0000000e+00,  0.0000000e+00,  0.0000000e+00, -1.7424161e+00,\n",
       "        0.0000000e+00,  0.0000000e+00,  0.0000000e+00,  0.0000000e+00,\n",
       "        0.0000000e+00,  0.0000000e+00,  0.0000000e+00,  0.0000000e+00,\n",
       "       -6.5322394e+00,  0.0000000e+00,  5.0209298e+00,  0.0000000e+00,\n",
       "        0.0000000e+00,  0.0000000e+00,  0.0000000e+00,  0.0000000e+00,\n",
       "        0.0000000e+00,  0.0000000e+00,  0.0000000e+00,  0.0000000e+00,\n",
       "        0.0000000e+00,  0.0000000e+00,  0.0000000e+00,  0.0000000e+00,\n",
       "        0.0000000e+00,  0.0000000e+00,  0.0000000e+00,  0.0000000e+00,\n",
       "        0.0000000e+00,  0.0000000e+00,  0.0000000e+00,  6.2160000e+03,\n",
       "        0.0000000e+00,  0.0000000e+00,  0.0000000e+00,  0.0000000e+00,\n",
       "        0.0000000e+00,  0.0000000e+00,  0.0000000e+00,  0.0000000e+00,\n",
       "        0.0000000e+00,  0.0000000e+00,  0.0000000e+00,  0.0000000e+00,\n",
       "        0.0000000e+00,  0.0000000e+00,  0.0000000e+00,  0.0000000e+00,\n",
       "        0.0000000e+00, -1.7246800e+05,  0.0000000e+00,  0.0000000e+00,\n",
       "        0.0000000e+00,  0.0000000e+00,  0.0000000e+00,  0.0000000e+00,\n",
       "        0.0000000e+00,  0.0000000e+00, -2.6134000e+04,  0.0000000e+00,\n",
       "        2.8672000e+04,  0.0000000e+00, -1.3516800e+05,  0.0000000e+00,\n",
       "        0.0000000e+00,  0.0000000e+00,  0.0000000e+00,  0.0000000e+00,\n",
       "        0.0000000e+00,  0.0000000e+00, -1.0000000e+00,  0.0000000e+00,\n",
       "        0.0000000e+00,  0.0000000e+00,  0.0000000e+00,  0.0000000e+00,\n",
       "        1.0000000e+00,  0.0000000e+00,  0.0000000e+00,  0.0000000e+00,\n",
       "        0.0000000e+00,  0.0000000e+00,  0.0000000e+00,  0.0000000e+00,\n",
       "        0.0000000e+00,  0.0000000e+00,  0.0000000e+00,  0.0000000e+00,\n",
       "        0.0000000e+00,  0.0000000e+00,  0.0000000e+00,  0.0000000e+00,\n",
       "        0.0000000e+00,  0.0000000e+00,  0.0000000e+00,  0.0000000e+00,\n",
       "        0.0000000e+00,  0.0000000e+00,  0.0000000e+00,  0.0000000e+00,\n",
       "        0.0000000e+00,  0.0000000e+00,  0.0000000e+00,  0.0000000e+00,\n",
       "        0.0000000e+00,  0.0000000e+00, -2.0000000e+00,  0.0000000e+00,\n",
       "        0.0000000e+00,  0.0000000e+00,  1.0000000e+00,  0.0000000e+00,\n",
       "        0.0000000e+00,  0.0000000e+00,  0.0000000e+00,  0.0000000e+00,\n",
       "        0.0000000e+00,  0.0000000e+00,  0.0000000e+00,  0.0000000e+00,\n",
       "        0.0000000e+00,  0.0000000e+00,  0.0000000e+00,  0.0000000e+00,\n",
       "        0.0000000e+00,  0.0000000e+00,  0.0000000e+00,  0.0000000e+00,\n",
       "        0.0000000e+00,  0.0000000e+00, -1.0000000e+00,  0.0000000e+00,\n",
       "        0.0000000e+00,  0.0000000e+00,  0.0000000e+00,  0.0000000e+00,\n",
       "        0.0000000e+00,  0.0000000e+00,  0.0000000e+00,  0.0000000e+00,\n",
       "        1.0000000e+00,  0.0000000e+00,  0.0000000e+00,  0.0000000e+00,\n",
       "        0.0000000e+00,  1.0000000e+00,  0.0000000e+00,  0.0000000e+00,\n",
       "        0.0000000e+00,  0.0000000e+00,  0.0000000e+00,  0.0000000e+00,\n",
       "        0.0000000e+00,  0.0000000e+00,  0.0000000e+00,  0.0000000e+00,\n",
       "        0.0000000e+00,  0.0000000e+00,  0.0000000e+00,  0.0000000e+00,\n",
       "        0.0000000e+00,  0.0000000e+00,  0.0000000e+00,  0.0000000e+00,\n",
       "        0.0000000e+00,  0.0000000e+00,  0.0000000e+00], dtype=float32)"
      ]
     },
     "execution_count": 45,
     "metadata": {},
     "output_type": "execute_result"
    }
   ],
   "source": [
    "section_feats['section'][0]"
   ]
  },
  {
   "cell_type": "code",
   "execution_count": 44,
   "id": "e0c5d629",
   "metadata": {},
   "outputs": [
    {
     "ename": "ValueError",
     "evalue": "Shape of passed values is (50000, 1), indices imply (50000, 10)",
     "output_type": "error",
     "traceback": [
      "\u001b[0;31m---------------------------------------------------------------------------\u001b[0m",
      "\u001b[0;31mValueError\u001b[0m                                Traceback (most recent call last)",
      "\u001b[0;32m/tmp/ipykernel_20317/486604668.py\u001b[0m in \u001b[0;36m<module>\u001b[0;34m\u001b[0m\n\u001b[1;32m      2\u001b[0m         \u001b[0;34m'section_sizes_hashed'\u001b[0m\u001b[0;34m,\u001b[0m \u001b[0;34m'section_entropy_hashed'\u001b[0m\u001b[0;34m,\u001b[0m \u001b[0;34m'section_vsize_hashed'\u001b[0m\u001b[0;34m,\u001b[0m \u001b[0;34m'entry_name_hashed'\u001b[0m\u001b[0;34m,\u001b[0m\u001b[0;34m\u001b[0m\u001b[0;34m\u001b[0m\u001b[0m\n\u001b[1;32m      3\u001b[0m         'characteristics_hashed']\n\u001b[0;32m----> 4\u001b[0;31m \u001b[0mpd\u001b[0m\u001b[0;34m.\u001b[0m\u001b[0mDataFrame\u001b[0m\u001b[0;34m(\u001b[0m\u001b[0mdata\u001b[0m\u001b[0;34m=\u001b[0m\u001b[0msection_feats\u001b[0m\u001b[0;34m[\u001b[0m\u001b[0;34m'section'\u001b[0m\u001b[0;34m]\u001b[0m\u001b[0;34m.\u001b[0m\u001b[0mvalues\u001b[0m\u001b[0;34m,\u001b[0m \u001b[0mcolumns\u001b[0m\u001b[0;34m=\u001b[0m\u001b[0mheader\u001b[0m\u001b[0;34m)\u001b[0m\u001b[0;34m\u001b[0m\u001b[0;34m\u001b[0m\u001b[0m\n\u001b[0m",
      "\u001b[0;32m~/.pyenv/versions/mvda/lib/python3.9/site-packages/pandas/core/frame.py\u001b[0m in \u001b[0;36m__init__\u001b[0;34m(self, data, index, columns, dtype, copy)\u001b[0m\n\u001b[1;32m    670\u001b[0m                 )\n\u001b[1;32m    671\u001b[0m             \u001b[0;32melse\u001b[0m\u001b[0;34m:\u001b[0m\u001b[0;34m\u001b[0m\u001b[0;34m\u001b[0m\u001b[0m\n\u001b[0;32m--> 672\u001b[0;31m                 mgr = ndarray_to_mgr(\n\u001b[0m\u001b[1;32m    673\u001b[0m                     \u001b[0mdata\u001b[0m\u001b[0;34m,\u001b[0m\u001b[0;34m\u001b[0m\u001b[0;34m\u001b[0m\u001b[0m\n\u001b[1;32m    674\u001b[0m                     \u001b[0mindex\u001b[0m\u001b[0;34m,\u001b[0m\u001b[0;34m\u001b[0m\u001b[0;34m\u001b[0m\u001b[0m\n",
      "\u001b[0;32m~/.pyenv/versions/mvda/lib/python3.9/site-packages/pandas/core/internals/construction.py\u001b[0m in \u001b[0;36mndarray_to_mgr\u001b[0;34m(values, index, columns, dtype, copy, typ)\u001b[0m\n\u001b[1;32m    322\u001b[0m     )\n\u001b[1;32m    323\u001b[0m \u001b[0;34m\u001b[0m\u001b[0m\n\u001b[0;32m--> 324\u001b[0;31m     \u001b[0m_check_values_indices_shape_match\u001b[0m\u001b[0;34m(\u001b[0m\u001b[0mvalues\u001b[0m\u001b[0;34m,\u001b[0m \u001b[0mindex\u001b[0m\u001b[0;34m,\u001b[0m \u001b[0mcolumns\u001b[0m\u001b[0;34m)\u001b[0m\u001b[0;34m\u001b[0m\u001b[0;34m\u001b[0m\u001b[0m\n\u001b[0m\u001b[1;32m    325\u001b[0m \u001b[0;34m\u001b[0m\u001b[0m\n\u001b[1;32m    326\u001b[0m     \u001b[0;32mif\u001b[0m \u001b[0mtyp\u001b[0m \u001b[0;34m==\u001b[0m \u001b[0;34m\"array\"\u001b[0m\u001b[0;34m:\u001b[0m\u001b[0;34m\u001b[0m\u001b[0;34m\u001b[0m\u001b[0m\n",
      "\u001b[0;32m~/.pyenv/versions/mvda/lib/python3.9/site-packages/pandas/core/internals/construction.py\u001b[0m in \u001b[0;36m_check_values_indices_shape_match\u001b[0;34m(values, index, columns)\u001b[0m\n\u001b[1;32m    391\u001b[0m         \u001b[0mpassed\u001b[0m \u001b[0;34m=\u001b[0m \u001b[0mvalues\u001b[0m\u001b[0;34m.\u001b[0m\u001b[0mshape\u001b[0m\u001b[0;34m\u001b[0m\u001b[0;34m\u001b[0m\u001b[0m\n\u001b[1;32m    392\u001b[0m         \u001b[0mimplied\u001b[0m \u001b[0;34m=\u001b[0m \u001b[0;34m(\u001b[0m\u001b[0mlen\u001b[0m\u001b[0;34m(\u001b[0m\u001b[0mindex\u001b[0m\u001b[0;34m)\u001b[0m\u001b[0;34m,\u001b[0m \u001b[0mlen\u001b[0m\u001b[0;34m(\u001b[0m\u001b[0mcolumns\u001b[0m\u001b[0;34m)\u001b[0m\u001b[0;34m)\u001b[0m\u001b[0;34m\u001b[0m\u001b[0;34m\u001b[0m\u001b[0m\n\u001b[0;32m--> 393\u001b[0;31m         \u001b[0;32mraise\u001b[0m \u001b[0mValueError\u001b[0m\u001b[0;34m(\u001b[0m\u001b[0;34mf\"Shape of passed values is {passed}, indices imply {implied}\"\u001b[0m\u001b[0;34m)\u001b[0m\u001b[0;34m\u001b[0m\u001b[0;34m\u001b[0m\u001b[0m\n\u001b[0m\u001b[1;32m    394\u001b[0m \u001b[0;34m\u001b[0m\u001b[0m\n\u001b[1;32m    395\u001b[0m \u001b[0;34m\u001b[0m\u001b[0m\n",
      "\u001b[0;31mValueError\u001b[0m: Shape of passed values is (50000, 1), indices imply (50000, 10)"
     ]
    }
   ],
   "source": [
    "header=['total_sections', 'sections_with_zero', 'sections_with_no_name', 'total_rx', 'total_w', \n",
    "        'section_sizes_hashed', 'section_entropy_hashed', 'section_vsize_hashed', 'entry_name_hashed',\n",
    "        'characteristics_hashed']\n",
    "pd.DataFrame(data=section_feats['section'].values, columns=header)"
   ]
  },
  {
   "cell_type": "code",
   "execution_count": null,
   "id": "36a14ef9",
   "metadata": {},
   "outputs": [],
   "source": [
    "raw_features.merge(pd.json_normalize(raw_features['strings']), 'left', left_index=True, right_index=True)\n",
    "raw_features.merge(pd.json_normalize(raw_features['general']), 'left', left_index=True, right_index=True)\n",
    "raw_features.merge(pd.json_normalize(raw_features['header']), 'left', left_index=True, right_index=True)"
   ]
  },
  {
   "cell_type": "code",
   "execution_count": 141,
   "id": "319ab7a6",
   "metadata": {},
   "outputs": [
    {
     "data": {
      "text/html": [
       "<div>\n",
       "<style scoped>\n",
       "    .dataframe tbody tr th:only-of-type {\n",
       "        vertical-align: middle;\n",
       "    }\n",
       "\n",
       "    .dataframe tbody tr th {\n",
       "        vertical-align: top;\n",
       "    }\n",
       "\n",
       "    .dataframe thead th {\n",
       "        text-align: right;\n",
       "    }\n",
       "</style>\n",
       "<table border=\"1\" class=\"dataframe\">\n",
       "  <thead>\n",
       "    <tr style=\"text-align: right;\">\n",
       "      <th></th>\n",
       "      <th>sha256</th>\n",
       "      <th>md5</th>\n",
       "      <th>appeared</th>\n",
       "      <th>label</th>\n",
       "      <th>avclass</th>\n",
       "      <th>histogram</th>\n",
       "      <th>byteentropy</th>\n",
       "      <th>strings</th>\n",
       "      <th>general</th>\n",
       "      <th>header</th>\n",
       "      <th>section</th>\n",
       "      <th>imports</th>\n",
       "      <th>exports</th>\n",
       "      <th>datadirectories</th>\n",
       "    </tr>\n",
       "  </thead>\n",
       "  <tbody>\n",
       "    <tr>\n",
       "      <th>0</th>\n",
       "      <td>0abb4fda7d5b13801d63bee53e5e256be43e141faa077a...</td>\n",
       "      <td>63956d6417f8f43357d9a8e79e52257e</td>\n",
       "      <td>2006-12</td>\n",
       "      <td>0</td>\n",
       "      <td></td>\n",
       "      <td>[45521, 13095, 12167, 12496, 12429, 11709, 118...</td>\n",
       "      <td>[0, 0, 0, 0, 0, 0, 0, 0, 0, 0, 0, 0, 0, 0, 0, ...</td>\n",
       "      <td>{'numstrings': 14573, 'avlength': 5.9720716393...</td>\n",
       "      <td>{'size': 3101705, 'vsize': 380928, 'has_debug'...</td>\n",
       "      <td>{'coff': {'timestamp': 1124149349, 'machine': ...</td>\n",
       "      <td>{'entry': '.text', 'sections': [{'name': '.tex...</td>\n",
       "      <td>{'KERNEL32.dll': ['SetFileTime', 'CompareFileT...</td>\n",
       "      <td>[]</td>\n",
       "      <td>[{'name': 'EXPORT_TABLE', 'size': 0, 'virtual_...</td>\n",
       "    </tr>\n",
       "    <tr>\n",
       "      <th>1</th>\n",
       "      <td>c9cafff8a596ba8a80bafb4ba8ae6f2ef3329d95b85f15...</td>\n",
       "      <td>6f7bde7a1126debf0cc359a54953efc1</td>\n",
       "      <td>2007-01</td>\n",
       "      <td>0</td>\n",
       "      <td></td>\n",
       "      <td>[93059, 15789, 2871, 3005, 4107, 1771, 2918, 4...</td>\n",
       "      <td>[47100, 2, 0, 0, 0, 0, 2, 0, 0, 0, 0, 0, 0, 0,...</td>\n",
       "      <td>{'numstrings': 1803, 'avlength': 11.1913477537...</td>\n",
       "      <td>{'size': 504320, 'vsize': 524288, 'has_debug':...</td>\n",
       "      <td>{'coff': {'timestamp': 1091600092, 'machine': ...</td>\n",
       "      <td>{'entry': '.text', 'sections': [{'name': '.tex...</td>\n",
       "      <td>{'ADVAPI32.dll': ['ConvertStringSecurityDescri...</td>\n",
       "      <td>[]</td>\n",
       "      <td>[{'name': 'EXPORT_TABLE', 'size': 0, 'virtual_...</td>\n",
       "    </tr>\n",
       "    <tr>\n",
       "      <th>2</th>\n",
       "      <td>eac8ddb4970f8af985742973d6f0e06902d42a3684d791...</td>\n",
       "      <td>7520c8f9534ca818726a4feaebf49e2b</td>\n",
       "      <td>2007-02</td>\n",
       "      <td>0</td>\n",
       "      <td></td>\n",
       "      <td>[45369, 2560, 1233, 1542, 4234, 515, 613, 1542...</td>\n",
       "      <td>[6144, 0, 0, 0, 0, 0, 0, 0, 0, 0, 0, 0, 0, 0, ...</td>\n",
       "      <td>{'numstrings': 1238, 'avlength': 12.0201938610...</td>\n",
       "      <td>{'size': 180224, 'vsize': 180224, 'has_debug':...</td>\n",
       "      <td>{'coff': {'timestamp': 892092777, 'machine': '...</td>\n",
       "      <td>{'entry': '.text', 'sections': [{'name': '.tex...</td>\n",
       "      <td>{'ADVAPI32.dll': ['RegSetValueExA', 'RegDelete...</td>\n",
       "      <td>[]</td>\n",
       "      <td>[{'name': 'EXPORT_TABLE', 'size': 0, 'virtual_...</td>\n",
       "    </tr>\n",
       "    <tr>\n",
       "      <th>3</th>\n",
       "      <td>7f513818bcc276c531af2e641c597744da807e21cc1160...</td>\n",
       "      <td>e435a536968941854bcec3b902c439f6</td>\n",
       "      <td>2007-02</td>\n",
       "      <td>0</td>\n",
       "      <td></td>\n",
       "      <td>[21315, 9641, 9332, 9358, 9598, 9220, 9146, 93...</td>\n",
       "      <td>[0, 0, 0, 0, 0, 0, 0, 0, 0, 0, 0, 0, 0, 0, 0, ...</td>\n",
       "      <td>{'numstrings': 11166, 'avlength': 5.8078989790...</td>\n",
       "      <td>{'size': 2377730, 'vsize': 77824, 'has_debug':...</td>\n",
       "      <td>{'coff': {'timestamp': 708992537, 'machine': '...</td>\n",
       "      <td>{'entry': 'CODE', 'sections': [{'name': 'CODE'...</td>\n",
       "      <td>{'kernel32.dll': ['DeleteCriticalSection', 'Wr...</td>\n",
       "      <td>[]</td>\n",
       "      <td>[{'name': 'EXPORT_TABLE', 'size': 0, 'virtual_...</td>\n",
       "    </tr>\n",
       "    <tr>\n",
       "      <th>4</th>\n",
       "      <td>ca65e1c387a4cc9e7d8a8ce12bf1bcf9f534c9032b9d95...</td>\n",
       "      <td>e93049e2df82ab26f35ad0049173cb14</td>\n",
       "      <td>2007-02</td>\n",
       "      <td>0</td>\n",
       "      <td></td>\n",
       "      <td>[23539, 6015, 5214, 4727, 4892, 4649, 4367, 52...</td>\n",
       "      <td>[0, 0, 0, 0, 0, 0, 0, 0, 0, 0, 0, 0, 0, 0, 0, ...</td>\n",
       "      <td>{'numstrings': 5547, 'avlength': 6.04344690823...</td>\n",
       "      <td>{'size': 1153808, 'vsize': 1167360, 'has_debug...</td>\n",
       "      <td>{'coff': {'timestamp': 938258311, 'machine': '...</td>\n",
       "      <td>{'entry': '.text', 'sections': [{'name': '.tex...</td>\n",
       "      <td>{'ADVAPI32.dll': ['RegCloseKey', 'AllocateAndI...</td>\n",
       "      <td>[]</td>\n",
       "      <td>[{'name': 'EXPORT_TABLE', 'size': 0, 'virtual_...</td>\n",
       "    </tr>\n",
       "  </tbody>\n",
       "</table>\n",
       "</div>"
      ],
      "text/plain": [
       "                                              sha256  \\\n",
       "0  0abb4fda7d5b13801d63bee53e5e256be43e141faa077a...   \n",
       "1  c9cafff8a596ba8a80bafb4ba8ae6f2ef3329d95b85f15...   \n",
       "2  eac8ddb4970f8af985742973d6f0e06902d42a3684d791...   \n",
       "3  7f513818bcc276c531af2e641c597744da807e21cc1160...   \n",
       "4  ca65e1c387a4cc9e7d8a8ce12bf1bcf9f534c9032b9d95...   \n",
       "\n",
       "                                md5 appeared  label avclass  \\\n",
       "0  63956d6417f8f43357d9a8e79e52257e  2006-12      0           \n",
       "1  6f7bde7a1126debf0cc359a54953efc1  2007-01      0           \n",
       "2  7520c8f9534ca818726a4feaebf49e2b  2007-02      0           \n",
       "3  e435a536968941854bcec3b902c439f6  2007-02      0           \n",
       "4  e93049e2df82ab26f35ad0049173cb14  2007-02      0           \n",
       "\n",
       "                                           histogram  \\\n",
       "0  [45521, 13095, 12167, 12496, 12429, 11709, 118...   \n",
       "1  [93059, 15789, 2871, 3005, 4107, 1771, 2918, 4...   \n",
       "2  [45369, 2560, 1233, 1542, 4234, 515, 613, 1542...   \n",
       "3  [21315, 9641, 9332, 9358, 9598, 9220, 9146, 93...   \n",
       "4  [23539, 6015, 5214, 4727, 4892, 4649, 4367, 52...   \n",
       "\n",
       "                                         byteentropy  \\\n",
       "0  [0, 0, 0, 0, 0, 0, 0, 0, 0, 0, 0, 0, 0, 0, 0, ...   \n",
       "1  [47100, 2, 0, 0, 0, 0, 2, 0, 0, 0, 0, 0, 0, 0,...   \n",
       "2  [6144, 0, 0, 0, 0, 0, 0, 0, 0, 0, 0, 0, 0, 0, ...   \n",
       "3  [0, 0, 0, 0, 0, 0, 0, 0, 0, 0, 0, 0, 0, 0, 0, ...   \n",
       "4  [0, 0, 0, 0, 0, 0, 0, 0, 0, 0, 0, 0, 0, 0, 0, ...   \n",
       "\n",
       "                                             strings  \\\n",
       "0  {'numstrings': 14573, 'avlength': 5.9720716393...   \n",
       "1  {'numstrings': 1803, 'avlength': 11.1913477537...   \n",
       "2  {'numstrings': 1238, 'avlength': 12.0201938610...   \n",
       "3  {'numstrings': 11166, 'avlength': 5.8078989790...   \n",
       "4  {'numstrings': 5547, 'avlength': 6.04344690823...   \n",
       "\n",
       "                                             general  \\\n",
       "0  {'size': 3101705, 'vsize': 380928, 'has_debug'...   \n",
       "1  {'size': 504320, 'vsize': 524288, 'has_debug':...   \n",
       "2  {'size': 180224, 'vsize': 180224, 'has_debug':...   \n",
       "3  {'size': 2377730, 'vsize': 77824, 'has_debug':...   \n",
       "4  {'size': 1153808, 'vsize': 1167360, 'has_debug...   \n",
       "\n",
       "                                              header  \\\n",
       "0  {'coff': {'timestamp': 1124149349, 'machine': ...   \n",
       "1  {'coff': {'timestamp': 1091600092, 'machine': ...   \n",
       "2  {'coff': {'timestamp': 892092777, 'machine': '...   \n",
       "3  {'coff': {'timestamp': 708992537, 'machine': '...   \n",
       "4  {'coff': {'timestamp': 938258311, 'machine': '...   \n",
       "\n",
       "                                             section  \\\n",
       "0  {'entry': '.text', 'sections': [{'name': '.tex...   \n",
       "1  {'entry': '.text', 'sections': [{'name': '.tex...   \n",
       "2  {'entry': '.text', 'sections': [{'name': '.tex...   \n",
       "3  {'entry': 'CODE', 'sections': [{'name': 'CODE'...   \n",
       "4  {'entry': '.text', 'sections': [{'name': '.tex...   \n",
       "\n",
       "                                             imports exports  \\\n",
       "0  {'KERNEL32.dll': ['SetFileTime', 'CompareFileT...      []   \n",
       "1  {'ADVAPI32.dll': ['ConvertStringSecurityDescri...      []   \n",
       "2  {'ADVAPI32.dll': ['RegSetValueExA', 'RegDelete...      []   \n",
       "3  {'kernel32.dll': ['DeleteCriticalSection', 'Wr...      []   \n",
       "4  {'ADVAPI32.dll': ['RegCloseKey', 'AllocateAndI...      []   \n",
       "\n",
       "                                     datadirectories  \n",
       "0  [{'name': 'EXPORT_TABLE', 'size': 0, 'virtual_...  \n",
       "1  [{'name': 'EXPORT_TABLE', 'size': 0, 'virtual_...  \n",
       "2  [{'name': 'EXPORT_TABLE', 'size': 0, 'virtual_...  \n",
       "3  [{'name': 'EXPORT_TABLE', 'size': 0, 'virtual_...  \n",
       "4  [{'name': 'EXPORT_TABLE', 'size': 0, 'virtual_...  "
      ]
     },
     "execution_count": 141,
     "metadata": {},
     "output_type": "execute_result"
    }
   ],
   "source": [
    "raw_features.head()"
   ]
  },
  {
   "cell_type": "code",
   "execution_count": null,
   "id": "1aaa3604",
   "metadata": {},
   "outputs": [],
   "source": []
  }
 ],
 "metadata": {
  "kernelspec": {
   "display_name": "Python 3 (ipykernel)",
   "language": "python",
   "name": "python3"
  },
  "language_info": {
   "codemirror_mode": {
    "name": "ipython",
    "version": 3
   },
   "file_extension": ".py",
   "mimetype": "text/x-python",
   "name": "python",
   "nbconvert_exporter": "python",
   "pygments_lexer": "ipython3",
   "version": "3.9.7"
  }
 },
 "nbformat": 4,
 "nbformat_minor": 5
}
